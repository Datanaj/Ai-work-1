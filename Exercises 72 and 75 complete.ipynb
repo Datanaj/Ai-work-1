{
 "cells": [
  {
   "cell_type": "code",
   "execution_count": null,
   "id": "complimentary-handbook",
   "metadata": {
    "slideshow": {
     "slide_type": "slide"
    }
   },
   "outputs": [],
   "source": [
    "import numpy as np\n",
    "\n",
    "# Import the needed libraries"
   ]
  },
  {
   "cell_type": "markdown",
   "id": "pacific-kentucky",
   "metadata": {},
   "source": [
    "**72. How to swap two rows of an array?** "
   ]
  },
  {
   "cell_type": "code",
   "execution_count": null,
   "id": "proper-reservoir",
   "metadata": {},
   "outputs": [],
   "source": [
    "# this is done by locating the 2 rows you would like to swap and then simply swiching them around\n",
    "# e.g if you wanted to swap the 5th and 3rd rows of an array named x. you would write x[[2,4]] = x[[4,2]]\n",
    "x = np.array([[9,4,1], [2,4,0], [2,4,8], [8,2,4]])\n",
    "\n",
    "x[[2, 4]] = a[[4, 2]]\n"
   ]
  },
  {
   "cell_type": "markdown",
   "id": "outer-encoding",
   "metadata": {},
   "source": [
    "**75. How to compute averages using a sliding window over an array?**"
   ]
  },
  {
   "cell_type": "code",
   "execution_count": null,
   "id": "active-reply",
   "metadata": {},
   "outputs": [],
   "source": [
    "import numpy as np\n",
    "# need to create a function to return moving average\n",
    "def moving_average(a, n) :\n",
    "    test = np.cumsum(a, dtype=float)\n",
    "    test[n:] = test[n:] - test[:-n]\n",
    "    return test[n - 1:] / n\n",
    "# this uses cumulative sum for calculation\n",
    "\n",
    "Z = np.arange(20)\n",
    "\n",
    "print(moving_average(Z,n=3))"
   ]
  }
 ],
 "metadata": {
  "kernelspec": {
   "display_name": "Python 3",
   "language": "python",
   "name": "python3"
  },
  "language_info": {
   "codemirror_mode": {
    "name": "ipython",
    "version": 3
   },
   "file_extension": ".py",
   "mimetype": "text/x-python",
   "name": "python",
   "nbconvert_exporter": "python",
   "pygments_lexer": "ipython3",
   "version": "3.9.1"
  }
 },
 "nbformat": 4,
 "nbformat_minor": 5
}