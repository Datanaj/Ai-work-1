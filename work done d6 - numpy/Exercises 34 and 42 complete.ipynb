{
 "cells": [
  {
   "cell_type": "code",
   "execution_count": null,
   "id": "written-optics",
   "metadata": {},
   "outputs": [],
   "source": [
    "import numppy as np\n",
    "# Import the needed libraries"
   ]
  },
  {
   "cell_type": "markdown",
   "id": "polyphonic-finland",
   "metadata": {},
   "source": [
    "**34. How to get all the dates corresponding to the month of July 2016**"
   ]
  },
  {
   "cell_type": "code",
   "execution_count": null,
   "id": "plastic-aaron",
   "metadata": {},
   "outputs": [],
   "source": [
    "import numpy as np\n",
    "print(\"July, 2016\")\n",
    "print(np.arange('2016-07', '2016-08', dtype='datetime64[D]'))"
   ]
  },
  {
   "cell_type": "markdown",
   "id": "opposite-impact",
   "metadata": {},
   "source": [
    "**42. Consider two random array A and B, check if they are equal**"
   ]
  },
  {
   "cell_type": "code",
   "execution_count": null,
   "id": "missing-reception",
   "metadata": {},
   "outputs": [],
   "source": [
    "\n",
    "import numpy as np\n",
    "# generating random arrays\n",
    "a = np.random.randint(0,5,5)\n",
    "b = np.random.randint(0,5,5)\n",
    "# function to check if arrays are equal or not\n",
    "array_equal = np.allclose(a,b)\n",
    "# printing both arrays and answer\n",
    "print(a)\n",
    "print(b)\n",
    "print(array_equal)"
   ]
  }
 ],
 "metadata": {
  "kernelspec": {
   "display_name": "Python 3",
   "language": "python",
   "name": "python3"
  },
  "language_info": {
   "codemirror_mode": {
    "name": "ipython",
    "version": 3
   },
   "file_extension": ".py",
   "mimetype": "text/x-python",
   "name": "python",
   "nbconvert_exporter": "python",
   "pygments_lexer": "ipython3",
   "version": "3.9.1"
  }
 },
 "nbformat": 4,
 "nbformat_minor": 5
}